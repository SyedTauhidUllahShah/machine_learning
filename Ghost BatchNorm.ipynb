{
 "cells": [
  {
   "cell_type": "markdown",
   "metadata": {},
   "source": [
    "Ideas:\n",
    "\n",
    "* Con random ghost batches\n",
    "* cuanto tarda en alcanzar la running_mean for pytorch BatchNorm, pytorch GhostBatchnorm, custom GBN"
   ]
  },
  {
   "cell_type": "code",
   "execution_count": 1,
   "metadata": {},
   "outputs": [],
   "source": [
    "import torch\n",
    "from torch import nn\n",
    "from torch.nn import functional as F\n",
    "import numpy as np"
   ]
  },
  {
   "cell_type": "code",
   "execution_count": 656,
   "metadata": {},
   "outputs": [
    {
     "data": {
      "text/plain": [
       "(tensor([1.0004, 0.9691]), tensor([2.3150, 2.3147]))"
      ]
     },
     "execution_count": 656,
     "metadata": {},
     "output_type": "execute_result"
    }
   ],
   "source": [
    "torch.manual_seed(42)\n",
    "dist = torch.distributions.Uniform(-3, 5)\n",
    "data = dist.sample([10000, 2])\n",
    "data = data[:]\n",
    "data_mean, data_std = data.mean(dim=0), data.std(dim=0)\n",
    "data_mean, data_std"
   ]
  },
  {
   "cell_type": "code",
   "execution_count": 657,
   "metadata": {},
   "outputs": [],
   "source": [
    "class GBN(nn.Module):\n",
    "    def __init__(self, n_in, vbs, momentum=0.1, eps=1e-5):\n",
    "        super().__init__()\n",
    "        self.vbs = vbs\n",
    "        self.eps = eps\n",
    "        self.mm = momentum\n",
    "        \n",
    "        gamma = nn.Parameter(torch.ones(n_in))\n",
    "        self.register_parameter(\"gamma\", gamma)\n",
    "        \n",
    "        beta = nn.Parameter(torch.zeros(n_in))\n",
    "        self.register_parameter(\"beta\", beta)\n",
    "        \n",
    "        self.register_buffer(\"running_mean\", torch.zeros(n_in))\n",
    "        self.register_buffer(\"running_std\", torch.ones(n_in))\n",
    "\n",
    "    \n",
    "    def forward(self, X):\n",
    "        num_ghost_batches = np.ceil(X.size(0)/self.vbs).astype(int)\n",
    "        ghost_batches = X.view(num_ghost_batches, -1, X.size(-1))\n",
    "        \n",
    "        ghost_mean = ghost_batches.mean(dim=1).unsqueeze(1)\n",
    "        ghost_std = ghost_batches.std(dim=1).unsqueeze(1)\n",
    "        \n",
    "        normalized_ghost_batches = (ghost_batches - ghost_mean) / ghost_std\n",
    "        normalized_batch = normalized_ghost_batches.view(X.size())\n",
    "        \n",
    "        self.running_mean = self._calculate_running_metric(self.running_mean, ghost_mean, num_ghost_batches)\n",
    "        self.running_std = self._calculate_running_metric(self.running_std, ghost_std, num_ghost_batches)\n",
    "        \n",
    "        return self.gamma * normalized_batch + self.beta\n",
    "    \n",
    "    def _calculate_running_metric(self, running_metric, ghost_metric, num_ghost_batches):\n",
    "        weighted_prev = ((1-self.mm)**num_ghost_batches) * running_metric\n",
    "        \n",
    "        exp_idxs = torch.arange(0, num_ghost_batches).flip(dims=(0,))\n",
    "        weighted_new = (\n",
    "            (self.mm * (1-self.mm)**exp_idxs)[..., None] * ghost_metric.squeeze(1)\n",
    "        ).sum(dim=0)\n",
    "        \n",
    "        return weighted_prev + weighted_new\n",
    "    "
   ]
  },
  {
   "cell_type": "code",
   "execution_count": 646,
   "metadata": {},
   "outputs": [
    {
     "data": {
      "text/plain": [
       "tensor([-3.9861e-10,  1.9193e-09], grad_fn=<MeanBackward1>)"
      ]
     },
     "execution_count": 646,
     "metadata": {},
     "output_type": "execute_result"
    }
   ],
   "source": [
    "n_in = 2\n",
    "vbs = 10\n",
    "eps = 1e-5\n",
    "mm = momentum = 0.1\n",
    "\n",
    "g = GBN(n_in, vbs, eps=eps, momentum=momentum)\n",
    "g(data).mean(dim=0)"
   ]
  },
  {
   "cell_type": "code",
   "execution_count": 659,
   "metadata": {},
   "outputs": [
    {
     "name": "stdout",
     "output_type": "stream",
     "text": [
      "205 ms ± 16.4 ms per loop (mean ± std. dev. of 7 runs, 1 loop each)\n"
     ]
    }
   ],
   "source": [
    "%%timeit\n",
    "for i in range(100): g(data)"
   ]
  },
  {
   "cell_type": "code",
   "execution_count": 673,
   "metadata": {},
   "outputs": [
    {
     "data": {
      "text/plain": [
       "tensor([5.5337, 5.0845])"
      ]
     },
     "execution_count": 673,
     "metadata": {},
     "output_type": "execute_result"
    }
   ],
   "source": [
    "g.running_std.pow(2)"
   ]
  },
  {
   "cell_type": "code",
   "execution_count": 661,
   "metadata": {},
   "outputs": [],
   "source": [
    "b = nn.BatchNorm1d(2, momentum=0.1, eps=1e-5)"
   ]
  },
  {
   "cell_type": "code",
   "execution_count": 662,
   "metadata": {},
   "outputs": [],
   "source": [
    "num_ghost_batches = np.ceil(data.size(0)/vbs).astype(int)\n",
    "ghost_batches = torch.stack([\n",
    "        data[i*vbs : i*vbs + vbs]\n",
    "        for i in range(num_ghost_batches)], dim=0)"
   ]
  },
  {
   "cell_type": "code",
   "execution_count": 663,
   "metadata": {},
   "outputs": [
    {
     "name": "stdout",
     "output_type": "stream",
     "text": [
      "6.73 s ± 618 ms per loop (mean ± std. dev. of 7 runs, 1 loop each)\n"
     ]
    }
   ],
   "source": [
    "%%timeit\n",
    "for i in range(100):\n",
    "    for i in range(len(ghost_batches)): b(ghost_batches[i])"
   ]
  },
  {
   "cell_type": "code",
   "execution_count": 670,
   "metadata": {},
   "outputs": [
    {
     "data": {
      "text/plain": [
       "tensor([5.6776, 5.1574])"
      ]
     },
     "execution_count": 670,
     "metadata": {},
     "output_type": "execute_result"
    }
   ],
   "source": [
    "b.running_var"
   ]
  },
  {
   "cell_type": "code",
   "execution_count": 665,
   "metadata": {},
   "outputs": [],
   "source": [
    "b2 = nn.BatchNorm1d(2, momentum=0.1, eps=1e-5)"
   ]
  },
  {
   "cell_type": "code",
   "execution_count": 666,
   "metadata": {},
   "outputs": [
    {
     "name": "stdout",
     "output_type": "stream",
     "text": [
      "22 ms ± 967 µs per loop (mean ± std. dev. of 7 runs, 10 loops each)\n"
     ]
    }
   ],
   "source": [
    "%%timeit\n",
    "for i in range(100): b2(data)"
   ]
  },
  {
   "cell_type": "code",
   "execution_count": 667,
   "metadata": {},
   "outputs": [
    {
     "data": {
      "text/plain": [
       "tensor([1.0004, 0.9691])"
      ]
     },
     "execution_count": 667,
     "metadata": {},
     "output_type": "execute_result"
    }
   ],
   "source": [
    "b2.running_mean"
   ]
  }
 ],
 "metadata": {
  "kernelspec": {
   "display_name": "Python 3",
   "language": "python",
   "name": "python3"
  },
  "language_info": {
   "codemirror_mode": {
    "name": "ipython",
    "version": 3
   },
   "file_extension": ".py",
   "mimetype": "text/x-python",
   "name": "python",
   "nbconvert_exporter": "python",
   "pygments_lexer": "ipython3",
   "version": "3.6.3"
  }
 },
 "nbformat": 4,
 "nbformat_minor": 4
}
