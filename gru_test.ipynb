{
 "cells": [
  {
   "cell_type": "code",
   "execution_count": 311,
   "metadata": {},
   "outputs": [],
   "source": [
    "import torch\n",
    "from torch import nn\n",
    "import matplotlib.pyplot as plt\n",
    "import numpy as np"
   ]
  },
  {
   "cell_type": "code",
   "execution_count": 2,
   "metadata": {},
   "outputs": [],
   "source": [
    "x = np.arange(0, 10, .1)\n",
    "y = np.sin(x)"
   ]
  },
  {
   "cell_type": "code",
   "execution_count": 3,
   "metadata": {
    "scrolled": false
   },
   "outputs": [
    {
     "data": {
      "image/png": "[encoded data removed]",
      "text/plain": [
       "<Figure size 432x288 with 1 Axes>"
      ]
     },
     "metadata": {},
     "output_type": "display_data"
    }
   ],
   "source": [
    "plt.plot(x, y)\n",
    "plt.show()"
   ]
  },
  {
   "cell_type": "code",
   "execution_count": 949,
   "metadata": {},
   "outputs": [
    {
     "data": {
      "text/plain": [
       "(tensor([[ 0.0298, -0.0699,  0.0535, -0.0190,  0.0137],\n",
       "         [ 0.0486, -0.1176,  0.0884, -0.0471,  0.0293],\n",
       "         [ 0.0673, -0.1648,  0.1229, -0.0748,  0.0447],\n",
       "         [ 0.0856, -0.2114,  0.1569, -0.1020,  0.0598],\n",
       "         [ 0.1036, -0.2572,  0.1901, -0.1286,  0.0746],\n",
       "         [ 0.1212, -0.3019,  0.2224, -0.1545,  0.0890],\n",
       "         [ 0.1382, -0.3456,  0.2538, -0.1794,  0.1030],\n",
       "         [ 0.1546, -0.3880,  0.2840, -0.2033,  0.1164],\n",
       "         [ 0.1705, -0.4290,  0.3130, -0.2261,  0.1294],\n",
       "         [ 0.1858, -0.4685,  0.3407, -0.2478,  0.1417]],\n",
       "        grad_fn=<ThAddBackward>),\n",
       " tensor([[ 0.0298,  0.0523, -0.0812, -0.0771,  0.0277],\n",
       "         [ 0.0723,  0.0548, -0.1144, -0.1086,  0.0268],\n",
       "         [ 0.1142,  0.0574, -0.1474, -0.1398,  0.0260],\n",
       "         [ 0.1552,  0.0601, -0.1800, -0.1706,  0.0253],\n",
       "         [ 0.1951,  0.0630, -0.2122, -0.2010,  0.0245],\n",
       "         [ 0.2336,  0.0661, -0.2439, -0.2308,  0.0239],\n",
       "         [ 0.2706,  0.0695, -0.2751, -0.2600,  0.0233],\n",
       "         [ 0.3060,  0.0731, -0.3058, -0.2885,  0.0229],\n",
       "         [ 0.3395,  0.0772, -0.3358, -0.3163,  0.0225],\n",
       "         [ 0.3711,  0.0816, -0.3651, -0.3432,  0.0223]],\n",
       "        grad_fn=<TanhBackward>))"
      ]
     },
     "execution_count": 949,
     "metadata": {},
     "output_type": "execute_result"
    }
   ],
   "source": [
    "class MyRNN(nn.Module):\n",
    "    def __init__(self, input_size, hidden_size, nonlinearity=torch.tanh, **kwargs):\n",
    "        super().__init__()\n",
    "        self.hidden_size = hidden_size\n",
    "        self.w_hh = self.xavier_init([hidden_size, hidden_size])\n",
    "        self.b_ih = nn.Parameter(torch.zeros([1, hidden_size], requires_grad=True))\n",
    "        \n",
    "        self.w_ih = self.xavier_init([input_size, hidden_size])\n",
    "        self.V = self.xavier_init([hidden_size, hidden_size])\n",
    "        self.b_hh = nn.Parameter(torch.zeros([1, hidden_size], requires_grad=True))\n",
    "        self.nonlinearity = nonlinearity\n",
    "    \n",
    "    def forward(self, x):\n",
    "        seq_size = x.size(0)\n",
    "        self.h = torch.zeros([1, self.hidden_size], requires_grad=True)\n",
    "        for i in range(seq_size):\n",
    "            self.a = self.h@self.w_hh + x[i]*self.w_ih + self.b_ih\n",
    "            self.h = self.nonlinearity(self.a)\n",
    "            self.o = self.b_hh + self.h@self.V\n",
    "        return self.o, self.h\n",
    "    \n",
    "    def xavier_init(self, size):\n",
    "        return torch.nn.Parameter(torch.autograd.Variable(\n",
    "            nn.init.xavier_normal_(torch.empty(*size)),\n",
    "            requires_grad=True\n",
    "        ))\n",
    "n = MyRNN(1, 5)\n",
    "n(data[0:10, :].permute(1, 0).view(sq, -1, 1))"
   ]
  },
  {
   "cell_type": "code",
   "execution_count": 950,
   "metadata": {},
   "outputs": [
    {
     "data": {
      "text/plain": [
       "(tensor([[ 0.0094,  0.0145, -0.1599, -0.0854, -0.0201],\n",
       "         [ 0.0133,  0.0313, -0.2304, -0.1159, -0.0331],\n",
       "         [ 0.0167,  0.0461, -0.2958, -0.1387, -0.0432],\n",
       "         [ 0.0197,  0.0590, -0.3548, -0.1545, -0.0502],\n",
       "         [ 0.0227,  0.0700, -0.4071, -0.1648, -0.0540],\n",
       "         [ 0.0258,  0.0791, -0.4529, -0.1710, -0.0551],\n",
       "         [ 0.0289,  0.0863, -0.4928, -0.1743, -0.0537],\n",
       "         [ 0.0321,  0.0916, -0.5275, -0.1759, -0.0503],\n",
       "         [ 0.0353,  0.0950, -0.5578, -0.1764, -0.0453],\n",
       "         [ 0.0384,  0.0966, -0.5842, -0.1765, -0.0392]],\n",
       "        grad_fn=<ThAddBackward>),\n",
       " tensor([[-0.2768,  0.0471, -0.0074, -0.1648,  0.1985],\n",
       "         [-0.4023,  0.0643,  0.0055, -0.2424,  0.2919],\n",
       "         [-0.5125,  0.0802,  0.0173, -0.3078,  0.3777],\n",
       "         [-0.6059,  0.0951,  0.0270, -0.3615,  0.4549],\n",
       "         [-0.6829,  0.1095,  0.0340, -0.4048,  0.5235],\n",
       "         [-0.7452,  0.1234,  0.0379, -0.4392,  0.5841],\n",
       "         [-0.7948,  0.1369,  0.0386, -0.4664,  0.6373],\n",
       "         [-0.8339,  0.1502,  0.0360, -0.4875,  0.6840],\n",
       "         [-0.8644,  0.1631,  0.0305, -0.5037,  0.7250],\n",
       "         [-0.8881,  0.1757,  0.0223, -0.5158,  0.7608]],\n",
       "        grad_fn=<ThAddBackward>))"
      ]
     },
     "execution_count": 950,
     "metadata": {},
     "output_type": "execute_result"
    }
   ],
   "source": [
    "class MyGRU(nn.Module):\n",
    "    def __init__(self, input_size, hidden_size, nonlinearity=torch.tanh, **kwargs):\n",
    "        super().__init__()\n",
    "        self.hidden_size = hidden_size\n",
    "        self.w_z = self.xavier_init([hidden_size, hidden_size])\n",
    "        self.w_r = self.xavier_init([hidden_size, hidden_size])\n",
    "        self.w_h = self.xavier_init([hidden_size, hidden_size])\n",
    "        self.w_y = self.xavier_init([hidden_size, hidden_size])\n",
    "        \n",
    "        self.u_z = self.xavier_init([input_size, hidden_size])\n",
    "        self.u_r = self.xavier_init([input_size, hidden_size])\n",
    "        self.u_h = self.xavier_init([input_size, hidden_size])\n",
    "        \n",
    "        self.b_z = nn.Parameter(torch.zeros([1, hidden_size], requires_grad=True))\n",
    "        self.b_r = nn.Parameter(torch.zeros([1, hidden_size], requires_grad=True))\n",
    "        self.b_h = nn.Parameter(torch.zeros([1, hidden_size], requires_grad=True))\n",
    "        self.b_y = nn.Parameter(torch.zeros([1, hidden_size], requires_grad=True))\n",
    "\n",
    "        self.nonlinearity = nonlinearity\n",
    "    \n",
    "    def forward(self, x):\n",
    "        seq_size = x.size(0)\n",
    "        self.h = torch.zeros([1, self.hidden_size], requires_grad=True)\n",
    "        \n",
    "        for i in range(seq_size):\n",
    "            z = torch.sigmoid(x[i]*self.u_z + self.h@self.w_z + self.b_z)\n",
    "            r = torch.sigmoid(x[i]*self.u_r + self.h@self.w_r + self.b_r)\n",
    "            h_new = torch.tanh(x[i]*self.u_h + (r*self.h)@self.w_h + self.b_h)\n",
    "            \n",
    "            self.h = (1 - z) * self.h + z * h_new\n",
    "            self.o = self.h@self.w_y + self.b_y\n",
    "            \n",
    "        return self.o, self.h\n",
    "    \n",
    "    def xavier_init(self, size):\n",
    "        return nn.Parameter(torch.autograd.Variable(\n",
    "            nn.init.xavier_normal_(torch.empty(*size)),\n",
    "            requires_grad=True\n",
    "        ))\n",
    "n = MyGRU(1, 5)\n",
    "n(data[0:10, :].permute(1, 0).view(sq, -1, 1))"
   ]
  },
  {
   "cell_type": "code",
   "execution_count": 1026,
   "metadata": {},
   "outputs": [],
   "source": [
    "sq = 4\n",
    "def create_dataset(nums, y, batch_size=sq):\n",
    "    batches = []\n",
    "    targets = []\n",
    "    for i in range(0+batch_size, len(nums)):\n",
    "        batch = nums[i-batch_size:i]\n",
    "        target = y[i]\n",
    "        batches.append(batch)\n",
    "        targets.append(target)\n",
    "    return batches, targets\n",
    "\n",
    "data, targets = create_dataset(x, y, batch_size=sq)\n",
    "data = np.asarray(data)\n",
    "targets = np.asarray(targets)\n",
    "data = torch.autograd.Variable(torch.Tensor(data), requires_grad=False)\n",
    "targets = torch.autograd.Variable(torch.Tensor(targets), requires_grad=False)\n",
    "\n",
    "class MyModel(torch.nn.Module):\n",
    "    def __init__(self):\n",
    "        super().__init__()\n",
    "        self.gru = MyGRU(1, 1, num_layers=1, batch_first=False)\n",
    "    def forward(self, input):\n",
    "        input = input.permute(1, 0).view(sq, -1, 1)\n",
    "        output, hidden = self.gru(input)\n",
    "        \n",
    "        return hidden\n",
    "        \n",
    "model = MyModel()\n",
    "optim = torch.optim.RMSprop(model.parameters(), lr=0.01)\n",
    "criterion = torch.nn.MSELoss()"
   ]
  },
  {
   "cell_type": "code",
   "execution_count": 1027,
   "metadata": {},
   "outputs": [
    {
     "name": "stdout",
     "output_type": "stream",
     "text": [
      "0 0.875205397605896\n",
      "100 0.3248729407787323\n",
      "200 0.27816644310951233\n",
      "300 0.2403561770915985\n",
      "400 0.21625037491321564\n",
      "500 0.20399761199951172\n",
      "600 0.1976916491985321\n",
      "700 0.19357292354106903\n",
      "800 0.19048726558685303\n",
      "900 0.180766299366951\n"
     ]
    }
   ],
   "source": [
    "for i in range(1000):\n",
    "    optim.zero_grad()\n",
    "    loss = criterion(model(data), targets.view(-1, 1))\n",
    "    if i % 100 == 0:\n",
    "        print(i, loss.item())\n",
    "    loss.backward()\n",
    "    optim.step()"
   ]
  },
  {
   "cell_type": "code",
   "execution_count": 1028,
   "metadata": {},
   "outputs": [],
   "source": [
    "for param_group in optim.param_groups:\n",
    "    param_group['lr'] = 1"
   ]
  },
  {
   "cell_type": "code",
   "execution_count": 1029,
   "metadata": {},
   "outputs": [
    {
     "data": {
      "text/plain": [
       "(96, torch.Size([96]))"
      ]
     },
     "execution_count": 1029,
     "metadata": {},
     "output_type": "execute_result"
    }
   ],
   "source": [
    "preds = model(data).view(-1)\n",
    "len(preds), preds.size()"
   ]
  },
  {
   "cell_type": "code",
   "execution_count": 1030,
   "metadata": {},
   "outputs": [
    {
     "data": {
      "image/png": "[encoded data removed]",
      "text/plain": [
       "<Figure size 432x288 with 1 Axes>"
      ]
     },
     "metadata": {},
     "output_type": "display_data"
    }
   ],
   "source": [
    "plt.plot(np.arange(len(preds)), preds.view(-1).data.numpy())\n",
    "plt.show()"
   ]
  },
  {
   "cell_type": "code",
   "execution_count": 944,
   "metadata": {},
   "outputs": [],
   "source": [
    "a,b,c = [], [], []\n",
    "for i, batch in enumerate(data):\n",
    "    a.append(batch[-1] + 0.1)\n",
    "    b.append(model(batch.view(1, -1)).view(-1))\n",
    "    # print(model(batch.view(1, 1, 8)))\n",
    "    c.append(targets[i])"
   ]
  },
  {
   "cell_type": "code",
   "execution_count": 945,
   "metadata": {},
   "outputs": [
    {
     "data": {
      "image/png": "[encoded data removed]",
      "text/plain": [
       "<Figure size 432x288 with 1 Axes>"
      ]
     },
     "metadata": {},
     "output_type": "display_data"
    }
   ],
   "source": [
    "plt.plot(a, b, label=\"pred\")\n",
    "plt.plot(a, c, label=\"target\")\n",
    "plt.legend()\n",
    "plt.show()"
   ]
  },
  {
   "cell_type": "code",
   "execution_count": null,
   "metadata": {},
   "outputs": [],
   "source": []
  },
  {
   "cell_type": "code",
   "execution_count": null,
   "metadata": {},
   "outputs": [],
   "source": []
  },
  {
   "cell_type": "code",
   "execution_count": null,
   "metadata": {},
   "outputs": [],
   "source": []
  }
 ],
 "metadata": {
  "kernelspec": {
   "display_name": "Python 3",
   "language": "python",
   "name": "python3"
  },
  "language_info": {
   "codemirror_mode": {
    "name": "ipython",
    "version": 3
   },
   "file_extension": ".py",
   "mimetype": "text/x-python",
   "name": "python",
   "nbconvert_exporter": "python",
   "pygments_lexer": "ipython3",
   "version": "3.6.3"
  }
 },
 "nbformat": 4,
 "nbformat_minor": 2
}
