{
 "cells": [
  {
   "cell_type": "code",
   "execution_count": 1,
   "metadata": {},
   "outputs": [],
   "source": [
    "import tensorflow as tf\n",
    "import pandas as pd\n",
    "import numpy as np\n",
    "from functools import partial\n",
    "from matplotlib.image import imread\n",
    "from matplotlib import pyplot as plt\n",
    "from glob import glob\n",
    "import random"
   ]
  },
  {
   "cell_type": "code",
   "execution_count": 2,
   "metadata": {},
   "outputs": [],
   "source": [
    "def placeholders():\n",
    "    return (\n",
    "        tf.placeholder(tf.float32, (None, 256, 256, 3), name=\"real_a\"),\n",
    "        tf.placeholder(tf.float32, (None, 256, 256, 3), name=\"real_b\"),\n",
    "        tf.placeholder(tf.float32, (None, 256, 256, 3), name=\"fake_b\"),\n",
    "        tf.placeholder(tf.float32, (None, 256, 256, 6), name=\"real_real\"),\n",
    "        tf.placeholder(tf.float32, (None, 256, 256, 6), name=\"real_fake\"),\n",
    "        tf.placeholder(tf.float32, (), name=\"lambda\"),\n",
    "    )"
   ]
  },
  {
   "cell_type": "code",
   "execution_count": 3,
   "metadata": {},
   "outputs": [],
   "source": [
    "conv_init=tf.initializers.random_normal(mean=0, stddev=0.2)\n",
    "\n",
    "def conv_block(prev_layer, filters, dropout=False, activation_fn=None, norm=False, transpose=False, idx=None):\n",
    "    assert idx is not None, \"idx must be specified\"\n",
    "    \n",
    "    l = prev_layer\n",
    "    with tf.name_scope(f\"unet_block_{idx}\"):\n",
    "        \n",
    "        if activation_fn:\n",
    "            l = activation_fn(l)\n",
    "        if transpose:\n",
    "            l = tf.layers.conv2d_transpose(l, filters, kernel_size=4, strides=2, padding=\"same\", use_bias=False, kernel_initializer=conv_init)\n",
    "        else:\n",
    "            l = tf.layers.conv2d(l, filters, kernel_size=4, strides=2, padding=\"same\", dilation_rate=1, use_bias=False, kernel_initializer=conv_init)\n",
    "        \n",
    "        if norm:\n",
    "            l = tf.layers.batch_normalization(l)\n",
    "\n",
    "    return l\n",
    "\n",
    "def build_generator(x):\n",
    "    with tf.name_scope(\"generator\"):\n",
    "        with tf.name_scope(\"down\"):\n",
    "            activation = partial(tf.nn.leaky_relu, alpha=0.2)\n",
    "            \n",
    "            e1 = conv_block(x, 64, idx=0)\n",
    "            e2 = conv_block(e1, 128, activation_fn=activation, norm=True, idx=1)\n",
    "            e3 = conv_block(e2, 256, activation_fn=activation, norm=True, idx=2)\n",
    "            e4 = conv_block(e3, 512, activation_fn=activation, norm=True, idx=3)\n",
    "            e5 = conv_block(e4, 512, activation_fn=activation, norm=True, idx=4)\n",
    "            e6 = conv_block(e5, 512, activation_fn=activation, norm=True, idx=5)\n",
    "            e7 = conv_block(e6, 512, activation_fn=activation, norm=True, idx=6)\n",
    "            e8 = conv_block(e7, 512, idx=7)\n",
    "        \n",
    "        with tf.name_scope(\"up\"):\n",
    "            activation = partial(tf.nn.relu)\n",
    "            \n",
    "            d1_ = conv_block(e8, 512, transpose=True, activation_fn=activation, norm=True, dropout=True, idx=0)\n",
    "            d1 = tf.concat([d1_, e7], axis=3)\n",
    "            d2_ = conv_block(d1, 512, transpose=True, activation_fn=activation, norm=True, dropout=True, idx=1)\n",
    "            d2 = tf.concat([d2_, e6], axis=3)\n",
    "            d3_ = conv_block(d2, 512, transpose=True, activation_fn=activation, norm=True, dropout=True, idx=2)\n",
    "            d3 = tf.concat([d3_, e5], axis=3)\n",
    "            d4_ = conv_block(d3, 512, transpose=True, activation_fn=activation, norm=True, idx=3)\n",
    "            d4 = tf.concat([d4_, e4], axis=3)\n",
    "            d5_ = conv_block(d4, 512, transpose=True, activation_fn=activation, norm=True, idx=4)\n",
    "            d5 = tf.concat([d5_, e3], axis=3)\n",
    "            d6_ = conv_block(d5, 256, transpose=True, activation_fn=activation, norm=True, idx=5)\n",
    "            d6 = tf.concat([d6_, e2], axis=3)\n",
    "            d7_ = conv_block(d6, 128, transpose=True, activation_fn=activation, norm=True, idx=6)\n",
    "            d7 = tf.concat([d7_, e1], axis=3)\n",
    "            d8 = conv_block(d7 ,   3, transpose=True, activation_fn=activation, norm=True, idx=7)\n",
    "    \n",
    "        out = tf.nn.tanh(d8)\n",
    "        \n",
    "        return out"
   ]
  },
  {
   "cell_type": "code",
   "execution_count": 4,
   "metadata": {},
   "outputs": [
    {
     "data": {
      "text/plain": [
       "<tf.Tensor 'generator/Tanh:0' shape=(1, 256, 256, 3) dtype=float32>"
      ]
     },
     "execution_count": 4,
     "metadata": {},
     "output_type": "execute_result"
    }
   ],
   "source": [
    "tf.reset_default_graph()\n",
    "with tf.get_default_graph().as_default():\n",
    "    model = build_generator(tf.constant(np.random.rand(1, 256, 256, 3), dtype=tf.float32))\n",
    "model"
   ]
  },
  {
   "cell_type": "code",
   "execution_count": 5,
   "metadata": {},
   "outputs": [],
   "source": [
    "def dis_conv_block(input, filters, strides=2, activation_fn=None, norm=False, idx=None):\n",
    "    assert idx is not None\n",
    "    \n",
    "    with tf.variable_scope(f\"dis_conv_block_{idx}\", reuse=tf.AUTO_REUSE):\n",
    "        l = input\n",
    "        l = tf.layers.conv2d(l, filters, kernel_size=4, strides=strides, padding=\"same\", dilation_rate=1, use_bias=False, kernel_initializer=conv_init)\n",
    "        \n",
    "        if norm:\n",
    "            l = tf.layers.batch_normalization(l)\n",
    "\n",
    "        if activation_fn:\n",
    "            l = activation_fn(l)\n",
    "        \n",
    "        return l\n",
    "\n",
    "def build_discriminator(x):\n",
    "    activation = partial(tf.nn.leaky_relu, alpha=0.2)\n",
    "    \n",
    "    with tf.name_scope(\"discriminator\"):\n",
    "        l = dis_conv_block(x, 64, activation_fn=activation, idx=0)\n",
    "        l = dis_conv_block(l, 128, activation_fn=activation, norm=True, idx=1)\n",
    "        l = dis_conv_block(l, 256, activation_fn=activation, norm=True, idx=2)\n",
    "        l = dis_conv_block(l, 512, activation_fn=activation, strides=1, norm=True, idx=3)\n",
    "        l = dis_conv_block(l, 512, activation_fn=activation, strides=1, norm=True, idx=4)\n",
    "        l = dis_conv_block(l, 1, activation_fn=activation, strides=1, idx=5)\n",
    "    \n",
    "    return tf.nn.sigmoid(l)"
   ]
  },
  {
   "cell_type": "code",
   "execution_count": 6,
   "metadata": {},
   "outputs": [
    {
     "data": {
      "text/plain": [
       "<tf.Tensor 'Sigmoid:0' shape=(1, 32, 32, 1) dtype=float32>"
      ]
     },
     "execution_count": 6,
     "metadata": {},
     "output_type": "execute_result"
    }
   ],
   "source": [
    "tf.reset_default_graph()\n",
    "with tf.get_default_graph().as_default():\n",
    "    model = build_discriminator(tf.constant(np.random.rand(1, 256, 256, 3), dtype=tf.float32))\n",
    "model"
   ]
  },
  {
   "cell_type": "code",
   "execution_count": 72,
   "metadata": {},
   "outputs": [],
   "source": [
    "if \"sess\" in globals():\n",
    "    sess.close()\n",
    "\n",
    "tf.reset_default_graph()\n",
    "sess = tf.InteractiveSession()\n",
    "\n",
    "real_a_ph, real_b_ph, fake_b_ph, real_real_ph, real_fake_ph, lambda_ph = placeholders()\n",
    "\n",
    "real_real = tf.concat([real_a_ph, real_b_ph], axis=3)\n",
    "fake_discriminator = build_discriminator(real_fake_ph)\n",
    "real_discriminator = build_discriminator(real_real)\n",
    "\n",
    "zeros = tf.zeros(tf.shape(fake_discriminator))\n",
    "fake_dis_loss = tf.losses.sigmoid_cross_entropy(zeros, fake_discriminator)\n",
    "\n",
    "dis_ones = tf.ones(tf.shape(real_discriminator))\n",
    "real_dis_loss = tf.losses.sigmoid_cross_entropy(dis_ones, real_discriminator)\n",
    "\n",
    "with tf.variable_scope(\"discriminator_loss\"):\n",
    "    total_dis_loss = (real_dis_loss + fake_dis_loss) * 0.5\n",
    "    adam_dis = tf.train.AdamOptimizer(learning_rate=0.0002, beta1=0.5, beta2=0.999).minimize(total_dis_loss)\n",
    "\n",
    "\n",
    "generator = build_generator(real_a_ph)\n",
    "real_fake = tf.concat([real_a_ph, generator], axis=3)\n",
    "gen_discriminator = build_discriminator(real_fake)\n",
    "\n",
    "\n",
    "gen_ones = tf.ones(tf.shape(gen_discriminator))\n",
    "gen_loss = tf.losses.sigmoid_cross_entropy(gen_ones, gen_discriminator)\n",
    "gen_l1_loss = tf.reduce_mean(tf.abs(generator - real_b_ph)) * lambda_ph\n",
    "\n",
    "with tf.variable_scope(\"generator_loss\"):\n",
    "    total_gen_loss = gen_loss + gen_l1_loss\n",
    "    adam_gen = tf.train.AdamOptimizer(learning_rate=0.0002, beta1=0.5, beta2=0.999).minimize(total_gen_loss)\n",
    "\n",
    "sess.run(tf.global_variables_initializer())"
   ]
  },
  {
   "cell_type": "code",
   "execution_count": 73,
   "metadata": {},
   "outputs": [
    {
     "name": "stdout",
     "output_type": "stream",
     "text": [
      "CPU times: user 17.5 s, sys: 7.24 s, total: 24.8 s\n",
      "Wall time: 24.4 s\n"
     ]
    }
   ],
   "source": [
    "%%time\n",
    "\n",
    "import cv2\n",
    "\n",
    "images = glob(\"/Users/alvaro/Downloads/CMP_facade_DB_base/base/*.jpg\")\n",
    "images = [(imread(image).astype(np.float32)-128)/128.0 for image in images]\n",
    "images = [cv2.resize(image, (256, 256)) for image in images]\n",
    "targets = glob(\"/Users/alvaro/Downloads/CMP_facade_DB_base/base/*.png\")\n",
    "targets = [(imread(target)*256-128)/128.0 for target in targets]\n",
    "targets = [cv2.resize(target, (256, 256)) for target in targets]\n",
    "data = list(zip(images, targets))"
   ]
  },
  {
   "cell_type": "code",
   "execution_count": 74,
   "metadata": {},
   "outputs": [],
   "source": [
    "def pick_image():\n",
    "    counter = 0\n",
    "    while True:\n",
    "        # print(counter)\n",
    "        image, target = data[counter % len(data)]\n",
    "        if random.random() < 0.5:\n",
    "            image = image[:,::-1,:]\n",
    "            target = target[:,::-1,:]\n",
    "        yield (image, target)\n",
    "        counter += 1\n",
    "\n",
    "BATCH_SIZE=3\n",
    "EPOCH_LENGTH=np.ceil(len(data)/float(BATCH_SIZE))\n",
    "\n",
    "ds = tf.data.Dataset.from_generator(pick_image, (tf.float32, tf.float32),\n",
    "                                    (tf.TensorShape([256, 256, 3]), tf.TensorShape([256, 256, 3])))\n",
    "o = ds.batch(3).shuffle(buffer_size=300)\n",
    "it = o.make_one_shot_iterator()\n",
    "images_it, targets_it = it.get_next()"
   ]
  },
  {
   "cell_type": "code",
   "execution_count": 75,
   "metadata": {},
   "outputs": [
    {
     "name": "stdout",
     "output_type": "stream",
     "text": [
      "discriminator loss 0.69536877\n",
      "generator loss 105.71336\n",
      "discriminator loss 0.7866654\n",
      "generator loss 106.698166\n"
     ]
    }
   ],
   "source": [
    "for i in range(2):\n",
    "    image, target = images_it.eval(), targets_it.eval()\n",
    "    \n",
    "    for i in range(1):\n",
    "        fake = sess.run(generator, feed_dict={real_a_ph: image})\n",
    "        real_fake = np.concatenate([image, fake], axis=3)\n",
    "        \n",
    "        _, dis_loss = sess.run([adam_dis, total_dis_loss], feed_dict={\n",
    "            real_a_ph: image, real_b_ph: target, real_fake_ph: real_fake\n",
    "        })\n",
    "        print(\"discriminator loss\", dis_loss)\n",
    "    \n",
    "    for i in range(1):\n",
    "        _, gen_loss = sess.run([adam_gen, total_gen_loss], feed_dict={\n",
    "            real_a_ph: image, real_b_ph: target, lambda_ph: 100\n",
    "        })\n",
    "        print(\"generator loss\", gen_loss)"
   ]
  },
  {
   "cell_type": "code",
   "execution_count": 76,
   "metadata": {},
   "outputs": [],
   "source": [
    "t = sess.run(generator, {real_a_ph: image})[0]"
   ]
  },
  {
   "cell_type": "code",
   "execution_count": 77,
   "metadata": {},
   "outputs": [
    {
     "data": {
      "image/png": "[encoded data removed]",
      "text/plain": [
       "<Figure size 432x288 with 1 Axes>"
      ]
     },
     "metadata": {},
     "output_type": "display_data"
    }
   ],
   "source": [
    "plt.imshow(np.floor(t*127 + 127).astype(np.int))\n",
    "plt.show()"
   ]
  },
  {
   "cell_type": "code",
   "execution_count": null,
   "metadata": {},
   "outputs": [],
   "source": []
  }
 ],
 "metadata": {
  "kernelspec": {
   "display_name": "Python 3",
   "language": "python",
   "name": "python3"
  },
  "language_info": {
   "codemirror_mode": {
    "name": "ipython",
    "version": 3
   },
   "file_extension": ".py",
   "mimetype": "text/x-python",
   "name": "python",
   "nbconvert_exporter": "python",
   "pygments_lexer": "ipython3",
   "version": "3.6.3"
  }
 },
 "nbformat": 4,
 "nbformat_minor": 2
}
